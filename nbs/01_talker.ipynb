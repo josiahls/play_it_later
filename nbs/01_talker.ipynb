{
 "cells": [
  {
   "cell_type": "code",
   "execution_count": 37,
   "metadata": {},
   "outputs": [],
   "source": [
    "# default_exp talker"
   ]
  },
  {
   "cell_type": "markdown",
   "metadata": {},
   "source": [
    "# Talker\n",
    "\n",
    "> Code for chatting with [tellyoulater](http://www.tellyoulater.com/)"
   ]
  },
  {
   "cell_type": "code",
   "execution_count": 38,
   "metadata": {},
   "outputs": [],
   "source": [
    "# export\n",
    "from fastcore.all import *\n",
    "from bs4 import BeautifulSoup\n",
    "from pathlib import Path\n",
    "from functools import partial\n",
    "from shutil import copyfile\n",
    "from selenium import webdriver\n",
    "from webdriver_manager.chrome import ChromeDriverManager\n",
    "from selenium.webdriver.remote.webdriver import WebDriver as RemoteWebDriver\n",
    "from selenium.webdriver.support import expected_conditions as EC\n",
    "\n",
    "from selenium.webdriver.common.by import By\n",
    "\n",
    "from selenium.webdriver.support.ui import WebDriverWait\n",
    "from selenium.webdriver.chrome.options import Options\n",
    "\n",
    "from selenium.webdriver.common.keys import Keys\n",
    "from itertools import count\n",
    "from time import sleep\n",
    "import http\n",
    "import webbrowser\n",
    "import flask\n",
    "import os\n",
    "import click\n",
    "import pyperclip\n",
    "import colorama\n",
    "import pickle\n",
    "import json"
   ]
  },
  {
   "cell_type": "code",
   "execution_count": 39,
   "metadata": {},
   "outputs": [],
   "source": [
    "#hide\n",
    "from nbdev.showdoc import *"
   ]
  },
  {
   "cell_type": "code",
   "execution_count": 40,
   "metadata": {},
   "outputs": [],
   "source": [
    "encrypted_text=\"\"\"202012090430-4ID_02OeiqruSuDOrKn2GvNsySCGPh5PnWHlur9wuxSvsovbbiUqvctKx3nb-s6\n",
    "eGhF1exvfaxxLj7lOc9qR2qC8pQIXZz66KYjNc4tDDNF75pcnw2mpM294fJdJjr2mB2TBQI4M6WO\n",
    "SF_WqKEUORmjwWABGiq0gOYb2FAdYQ_Hxy7GvN0QLswzZxu-JfjBECHfCo_8evHyDMaSdS-1KhnL\n",
    "s7weLw===lYiH\"\"\"\n",
    "\n",
    "previous_date_key=\"202012111930-4IEAJb8-vbHxgEHAojlb2xMAyJQYYmE29nb3dcCxxhEekj6f3dY_IVopegcSi-YmurGW2u9oNQk5e0TnIdZ0UWG0jX2tA7IFIq14tckSaZvoiasCxuIcfjonPUnOsJMIYmrYVQaxlvGDEOgPuIPmOPKKcxSoS7OXWm83qbw5C1ClwR0EFKqgkdqd1Q9OQsyUnDa-agpJIC5nwaKF2Q0YeqULnnnBU66rDoGLjZmzpKiOZUlq5-rb_jdjKRdm8Nnu6GiInUu0mXZP_eG-Ik8Jn-Xpb-2K4cKKwYWo1rH01m8vPhrCCUp84n6pU0ysIMTnsm2HizhRkcp3YXmXjPjeIGR6ONSw62J_0GxVKKkv86_KXPmgli-B77o2a418SHkxxT78J-3CKJPDS0KBTXVAiloW2cNwoUcJGQSgtDKIrektyd82g_NljPrxGIXOSwg4BsdKKZWs7pAc9k-l7zWzQubtIjd8bflFojqOTN60lrv_ZCBofUw2aas7WY1UYzfbkzwpN0ki83cG8vRI0YvDrWPqd15Zw===p_LL\""
   ]
  },
  {
   "cell_type": "code",
   "execution_count": 41,
   "metadata": {},
   "outputs": [],
   "source": [
    "# export\n",
    "def txt2encrypted_file(p:Path,txt:str):\n",
    "    p=Path(p)/'encrypted_time_key.pkl'\n",
    "    with open(p,'wb') as f: \n",
    "        pickle.dump(txt.replace('\\n',''),f)"
   ]
  },
  {
   "cell_type": "code",
   "execution_count": 42,
   "metadata": {},
   "outputs": [],
   "source": [
    "txt2encrypted_file('.',encrypted_text)"
   ]
  },
  {
   "cell_type": "code",
   "execution_count": 43,
   "metadata": {},
   "outputs": [],
   "source": [
    "# export\n",
    "def encrypted_file2txt(p:Path):\n",
    "    if len(Path(p).parts)==0 or Path(p).parts[-1]!='encrypted_time_key.pkl':\n",
    "        p=Path(p)/'encrypted_time_key.pkl'\n",
    "    with open(p,'rb') as f: \n",
    "        return pickle.load(f)"
   ]
  },
  {
   "cell_type": "code",
   "execution_count": 44,
   "metadata": {},
   "outputs": [
    {
     "data": {
      "text/plain": [
       "'202012090430-4ID_02OeiqruSuDOrKn2GvNsySCGPh5PnWHlur9wuxSvsovbbiUqvctKx3nb-s6eGhF1exvfaxxLj7lOc9qR2qC8pQIXZz66KYjNc4tDDNF75pcnw2mpM294fJdJjr2mB2TBQI4M6WOSF_WqKEUORmjwWABGiq0gOYb2FAdYQ_Hxy7GvN0QLswzZxu-JfjBECHfCo_8evHyDMaSdS-1KhnLs7weLw===lYiH'"
      ]
     },
     "execution_count": 44,
     "metadata": {},
     "output_type": "execute_result"
    }
   ],
   "source": [
    "encrypted_file2txt('.')"
   ]
  },
  {
   "cell_type": "markdown",
   "metadata": {},
   "source": [
    "## Key Setter"
   ]
  },
  {
   "cell_type": "code",
   "execution_count": 45,
   "metadata": {},
   "outputs": [
    {
     "name": "stderr",
     "output_type": "stream",
     "text": [
      "[WDM] - Current google-chrome version is 87.0.4280\n",
      "[WDM] - Get LATEST driver version for 87.0.4280\n",
      "[WDM] - Driver [/home/play_it_later/.wdm/drivers/chromedriver/linux64/87.0.4280.88/chromedriver] found in cache\n"
     ]
    },
    {
     "name": "stdout",
     "output_type": "stream",
     "text": [
      " \n"
     ]
    }
   ],
   "source": [
    "chrome_options = Options()\n",
    "chrome_options.add_argument('--headless')\n",
    "chrome_options.add_argument('--no-sandbox')\n",
    "chrome_options.add_argument('--disable-dev-shm-usage')\n",
    "\n",
    "driver=webdriver.Chrome(ChromeDriverManager().install(),options=chrome_options)\n",
    "driver.get(\"http://www.tellyoulater.com\")\n"
   ]
  },
  {
   "cell_type": "code",
   "execution_count": 46,
   "metadata": {},
   "outputs": [],
   "source": [
    "# export\n",
    "class HttpConnectionFailure(Exception):pass\n",
    "\n",
    "def send_encryption_key(key,year=2020,month=12,day=10,hour=19,minute=30,max_tries=10):\n",
    "    chrome_options=Options()\n",
    "    chrome_options.add_argument('--headless')\n",
    "    chrome_options.add_argument('--no-sandbox')\n",
    "    chrome_options.add_argument('--disable-dev-shm-usage')\n",
    "\n",
    "    with webdriver.Chrome(ChromeDriverManager().install(),options=chrome_options) as driver:\n",
    "        driver.get(\"http://www.tellyoulater.com\")\n",
    "\n",
    "        textbox=driver.find_element_by_id('intext')\n",
    "        textbox.send_keys(key)\n",
    "        \n",
    "        button=driver.find_element_by_id('timeAM' if hour<12 else 'timePM')\n",
    "        button.click()\n",
    "        \n",
    "        years_list=driver.find_element_by_id('yearShortcuts')\n",
    "        years=[o.get_attribute('innerHTML') for o in years_list.find_elements_by_tag_name('a')]\n",
    "        if str(year) not in years: click.echo(f'Please pick from these years: {years}')\n",
    "        [o.click() for o in years_list.find_elements_by_tag_name('a') if o.get_attribute('innerHTML')==str(year)]\n",
    "        \n",
    "        if hour>12:hour-=12\n",
    "        hours_list=driver.find_element_by_id('hours').find_elements_by_tag_name('a')\n",
    "        hours=[int(o.get_attribute('innerHTML')[:-1]) for o in hours_list]\n",
    "        if hour not in hours:click.echo(f'Please pick from these hours: {hours}')\n",
    "        [o.click() for o in hours_list if int(o.get_attribute('innerHTML')[:-1])==hour]\n",
    "        \n",
    "        minutes_list=driver.find_element_by_id('minutes').find_elements_by_tag_name('a')\n",
    "        minutes=[int(o.get_attribute('innerHTML')[1:]) for o in minutes_list]\n",
    "        if minute not in minutes:click.echo(f'Please pick from these minutes: {minutes}')\n",
    "        [o.click() for o in minutes_list if int(o.get_attribute('innerHTML')[1:])==minute]\n",
    "        \n",
    "        months_list=driver.find_element_by_id('monthShortcuts')\n",
    "        months=[(i+1) for i,o in enumerate(months_list.find_elements_by_tag_name('a'))]\n",
    "        if month not in months:\n",
    "            click.echo(f'Please pick from these months: {month}')\n",
    "        [o.click() for i,o in enumerate(months_list.find_elements_by_tag_name('a')) if (i+1)==month]\n",
    "        \n",
    "        date_picker=driver.find_element_by_id('datepicker')\n",
    "        day_list=date_picker.find_element_by_tag_name('tbody').find_elements_by_tag_name('td')\n",
    "        valid_day_list=[o.find_element_by_tag_name('a') for o in day_list if not in_('ui-state-disabled',o.get_attribute('class'))]\n",
    "        days,day_elements=zip(*[(int(o.get_attribute('innerHTML')),o) for o in valid_day_list])\n",
    "        if day not in days: click.echo(f'Please pick from these days in month {month}: {days}')\n",
    "        [o.click() for i,o in zip(days,day_elements) if i==day]\n",
    "\n",
    "        driver.find_element_by_id('encryptBtn').click()\n",
    "        \n",
    "        for i in count(0):\n",
    "            res_code_element=driver.find_element_by_id('resCode').get_attribute('innerHTML').replace('\\n','')\n",
    "            if res_code_element=='':sleep(1)\n",
    "            else:break\n",
    "            if i==max_tries: raise HttpConnectionFailure('Failed to get res code')\n",
    "                \n",
    "        return res_code_element"
   ]
  },
  {
   "cell_type": "code",
   "execution_count": 47,
   "metadata": {},
   "outputs": [
    {
     "name": "stderr",
     "output_type": "stream",
     "text": [
      "[WDM] - Current google-chrome version is 87.0.4280\n",
      "[WDM] - Get LATEST driver version for 87.0.4280\n",
      "[WDM] - Driver [/home/play_it_later/.wdm/drivers/chromedriver/linux64/87.0.4280.88/chromedriver] found in cache\n"
     ]
    },
    {
     "name": "stdout",
     "output_type": "stream",
     "text": [
      " \n",
      "Please pick from these days in month 12: (11, 12, 13, 14, 15, 16, 17, 18, 19, 20, 21, 22, 23, 24, 25, 26, 27, 28, 29, 30, 31)\n"
     ]
    },
    {
     "data": {
      "text/plain": [
       "'202012111930-4IEAJyH44BRycQO4aoQNXc2gM9pu1va-UtTSDNIdfVZOBe167yKY89Ai0cwsUmmJM3Y7BRa-z9Phdw-ia_AXM-PuBGJ-HJk7wLWWkTQuy8AiXdQulrjZnbBHJzECJ1N83kay-FPCjqxeL0JU0M2I3HiHhMYf7r22MNNh6269_gck5SvE-0-7RpksOJ0_30ZAcwUgnSI5LiPjd5lax2hpVl0ThJMt4d2EFCkAkG_rVDFVMZmIglJV95ZB6G7vxelVmdCjg1LD4lrn-DQuIIWVTITsU626uJ0HmYSHIkDaQ14X6z55TbvGTe9pqXL52w7fM8wVQKfQjYCQ2tUqSDluXkqyJOTq2dsT24txA49-9IvjEHUTSHe-U-hi7cxf3qADWgnfcwBYHjysn5DCmDAkLdaC2WeV7qGujKfhVRKkjsobqKozBnwSblqhbsdBpLus7WIcusLXR8-vk_xdGnJ4BeRQipJHM0AubeVB6SVKXvgVoskYPHamGixaJX7b3H4ifqVLdSGWS00RCe1_SEpPvz4I8SREA===1SJi'"
      ]
     },
     "execution_count": 47,
     "metadata": {},
     "output_type": "execute_result"
    }
   ],
   "source": [
    "queried_encryption_key=send_encryption_key(encrypted_text);queried_encryption_key"
   ]
  },
  {
   "cell_type": "code",
   "execution_count": 48,
   "metadata": {},
   "outputs": [],
   "source": [
    "txt2encrypted_file('.',queried_encryption_key)"
   ]
  },
  {
   "cell_type": "markdown",
   "metadata": {},
   "source": [
    "## Key Getter"
   ]
  },
  {
   "cell_type": "code",
   "execution_count": 49,
   "metadata": {},
   "outputs": [],
   "source": [
    "# export\n",
    "def request_decryption_key(key,max_tries=10):\n",
    "    chrome_options = Options()\n",
    "    chrome_options.add_argument('--headless')\n",
    "    chrome_options.add_argument('--no-sandbox')\n",
    "    chrome_options.add_argument('--disable-dev-shm-usage')\n",
    "\n",
    "    with webdriver.Chrome(ChromeDriverManager().install(),options=chrome_options) as driver:\n",
    "        driver.get(\"http://www.tellyoulater.com/decrypt\")\n",
    "\n",
    "        textbox=driver.find_element_by_id('outtext')\n",
    "        textbox.clear()\n",
    "        textbox.send_keys(key)\n",
    "        \n",
    "        button=driver.find_element_by_id('decryptBtn')\n",
    "        button.click()\n",
    "        \n",
    "        result_description=driver.find_element_by_id('msgDescription')\n",
    "        click.echo(result_description.get_attribute('innerHTML'))\n",
    "        \n",
    "        for i in count(0):\n",
    "            decrypted_msg=driver.find_element_by_id('decryptedMsg')\\\n",
    "                                     .get_attribute('innerHTML')\\\n",
    "                                     .replace('\"','').replace('”','')\\\n",
    "                                     .replace('“','').replace('<br>','')\n",
    "            if decrypted_msg=='':sleep(1)\n",
    "            else:break\n",
    "            if i==max_tries: raise HttpConnectionFailure('Failed to get decrypted_msg')\n",
    "        return decrypted_msg\n",
    "                "
   ]
  },
  {
   "cell_type": "code",
   "execution_count": 50,
   "metadata": {},
   "outputs": [],
   "source": [
    "key=encrypted_file2txt('.')"
   ]
  },
  {
   "cell_type": "code",
   "execution_count": 51,
   "metadata": {},
   "outputs": [
    {
     "name": "stderr",
     "output_type": "stream",
     "text": [
      "[WDM] - Current google-chrome version is 87.0.4280\n",
      "[WDM] - Get LATEST driver version for 87.0.4280\n",
      "[WDM] - Driver [/home/play_it_later/.wdm/drivers/chromedriver/linux64/87.0.4280.88/chromedriver] found in cache\n"
     ]
    },
    {
     "name": "stdout",
     "output_type": "stream",
     "text": [
      " \n",
      "The message was encrypted to be inaccessible until 12/11/2020, 7:30:00 PM local time or Fri, 11 Dec 2020 19:30:00 GMT UTC\n"
     ]
    },
    {
     "ename": "HttpConnectionFailure",
     "evalue": "Failed to get decrypted_msg",
     "output_type": "error",
     "traceback": [
      "\u001b[0;31m---------------------------------------------------------------------------\u001b[0m",
      "\u001b[0;31mHttpConnectionFailure\u001b[0m                     Traceback (most recent call last)",
      "\u001b[0;32m<ipython-input-51-e6c07df34943>\u001b[0m in \u001b[0;36m<module>\u001b[0;34m\u001b[0m\n\u001b[0;32m----> 1\u001b[0;31m \u001b[0mdecrypted_text\u001b[0m\u001b[0;34m=\u001b[0m\u001b[0mrequest_decryption_key\u001b[0m\u001b[0;34m(\u001b[0m\u001b[0mprevious_date_key\u001b[0m\u001b[0;34m)\u001b[0m\u001b[0;34m;\u001b[0m\u001b[0mdecrypted_text\u001b[0m\u001b[0;34m\u001b[0m\u001b[0;34m\u001b[0m\u001b[0m\n\u001b[0m",
      "\u001b[0;32m<ipython-input-49-2838ae79016a>\u001b[0m in \u001b[0;36mrequest_decryption_key\u001b[0;34m(key, max_tries)\u001b[0m\n\u001b[1;32m     26\u001b[0m             \u001b[0;32mif\u001b[0m \u001b[0mdecrypted_msg\u001b[0m\u001b[0;34m==\u001b[0m\u001b[0;34m''\u001b[0m\u001b[0;34m:\u001b[0m\u001b[0msleep\u001b[0m\u001b[0;34m(\u001b[0m\u001b[0;36m1\u001b[0m\u001b[0;34m)\u001b[0m\u001b[0;34m\u001b[0m\u001b[0;34m\u001b[0m\u001b[0m\n\u001b[1;32m     27\u001b[0m             \u001b[0;32melse\u001b[0m\u001b[0;34m:\u001b[0m\u001b[0;32mbreak\u001b[0m\u001b[0;34m\u001b[0m\u001b[0;34m\u001b[0m\u001b[0m\n\u001b[0;32m---> 28\u001b[0;31m             \u001b[0;32mif\u001b[0m \u001b[0mi\u001b[0m\u001b[0;34m==\u001b[0m\u001b[0mmax_tries\u001b[0m\u001b[0;34m:\u001b[0m \u001b[0;32mraise\u001b[0m \u001b[0mHttpConnectionFailure\u001b[0m\u001b[0;34m(\u001b[0m\u001b[0;34m'Failed to get decrypted_msg'\u001b[0m\u001b[0;34m)\u001b[0m\u001b[0;34m\u001b[0m\u001b[0;34m\u001b[0m\u001b[0m\n\u001b[0m\u001b[1;32m     29\u001b[0m         \u001b[0;32mreturn\u001b[0m \u001b[0mdecrypted_msg\u001b[0m\u001b[0;34m\u001b[0m\u001b[0;34m\u001b[0m\u001b[0m\n\u001b[1;32m     30\u001b[0m \u001b[0;34m\u001b[0m\u001b[0m\n",
      "\u001b[0;31mHttpConnectionFailure\u001b[0m: Failed to get decrypted_msg"
     ]
    }
   ],
   "source": [
    "decrypted_text=request_decryption_key(previous_date_key);decrypted_text"
   ]
  },
  {
   "cell_type": "code",
   "execution_count": 52,
   "metadata": {},
   "outputs": [
    {
     "ename": "NameError",
     "evalue": "name 'decrypted_text' is not defined",
     "output_type": "error",
     "traceback": [
      "\u001b[0;31m---------------------------------------------------------------------------\u001b[0m",
      "\u001b[0;31mNameError\u001b[0m                                 Traceback (most recent call last)",
      "\u001b[0;32m<ipython-input-52-4a1918896530>\u001b[0m in \u001b[0;36m<module>\u001b[0;34m\u001b[0m\n\u001b[0;32m----> 1\u001b[0;31m \u001b[0mtest_eq\u001b[0m\u001b[0;34m(\u001b[0m\u001b[0mdecrypted_text\u001b[0m\u001b[0;34m,\u001b[0m\u001b[0mencrypted_text\u001b[0m\u001b[0;34m)\u001b[0m\u001b[0;34m\u001b[0m\u001b[0;34m\u001b[0m\u001b[0m\n\u001b[0m",
      "\u001b[0;31mNameError\u001b[0m: name 'decrypted_text' is not defined"
     ]
    }
   ],
   "source": [
    "test_eq(decrypted_text,encrypted_text)"
   ]
  },
  {
   "cell_type": "code",
   "execution_count": 54,
   "metadata": {},
   "outputs": [
    {
     "name": "stdout",
     "output_type": "stream",
     "text": [
      "converting /opt/project/play_it_later/nbs/index.ipynb to README.md\n",
      "Converted 00_encryption.ipynb.\n",
      "Converted 01_talker.ipynb.\n",
      "Converted index.ipynb.\n",
      "converting: /opt/project/play_it_later/nbs/01_talker.ipynb\n"
     ]
    }
   ],
   "source": [
    "# hide\n",
    "from nbdev.export import *\n",
    "from nbdev.export2html import *\n",
    "from nbdev.cli import make_readme\n",
    "make_readme()\n",
    "notebook2script()\n",
    "notebook2html()"
   ]
  },
  {
   "cell_type": "code",
   "execution_count": null,
   "metadata": {},
   "outputs": [],
   "source": []
  }
 ],
 "metadata": {
  "kernelspec": {
   "display_name": "Python 3",
   "language": "python",
   "name": "python3"
  },
  "language_info": {
   "codemirror_mode": {
    "name": "ipython",
    "version": 3
   },
   "file_extension": ".py",
   "mimetype": "text/x-python",
   "name": "python",
   "nbconvert_exporter": "python",
   "pygments_lexer": "ipython3",
   "version": "3.7.8"
  }
 },
 "nbformat": 4,
 "nbformat_minor": 4
}
