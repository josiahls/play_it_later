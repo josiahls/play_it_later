{
 "cells": [
  {
   "cell_type": "code",
   "execution_count": 15,
   "metadata": {},
   "outputs": [],
   "source": [
    "# default_exp encryption"
   ]
  },
  {
   "cell_type": "markdown",
   "metadata": {},
   "source": [
    "# Encryption\n",
    "\n",
    "> Functions for encrypting files."
   ]
  },
  {
   "cell_type": "code",
   "execution_count": 16,
   "metadata": {},
   "outputs": [],
   "source": [
    "# export\n",
    "import cryptography\n",
    "from cryptography.fernet import Fernet\n",
    "from fastcore.all import *\n",
    "from pathlib import Path\n",
    "from functools import partial\n",
    "from shutil import copyfile\n",
    "import os"
   ]
  },
  {
   "cell_type": "code",
   "execution_count": 17,
   "metadata": {},
   "outputs": [],
   "source": [
    "#hide\n",
    "from nbdev.showdoc import *"
   ]
  },
  {
   "cell_type": "markdown",
   "metadata": {},
   "source": [
    "## Utility Functions"
   ]
  },
  {
   "cell_type": "code",
   "execution_count": 18,
   "metadata": {},
   "outputs": [],
   "source": [
    "# export\n",
    "def process_dirs(p:Path,fn=None,invalid_exts='mca'):\n",
    "    p=Path(p)\n",
    "    if p.is_file(): return fn(p,invalid_exts=invalid_exts)\n",
    "    for dirpath,dirnames,filenames in os.walk(str(p)):\n",
    "        if len(dirnames)==0 and len(filenames)==0: continue\n",
    "        for f in filenames: fn(Path(dirpath)/Path(f),invalid_exts=invalid_exts)"
   ]
  },
  {
   "cell_type": "code",
   "execution_count": 19,
   "metadata": {},
   "outputs": [
    {
     "name": "stdout",
     "output_type": "stream",
     "text": [
      "test_save/level.dat\n",
      "test_save/level.dat_old\n",
      "test_save/session.lock\n",
      "test_save/multipart.dat\n",
      "test_save/forcedchunks.dat\n",
      "test_save/advancements/aaa58dde-8e1d-4577-aae3-fff207e8c068.json\n",
      "test_save/playerdata/aaa58dde-8e1d-4577-aae3-fff207e8c068.dat\n",
      "test_save/DIM-17/multipart.dat\n",
      "test_save/DIM-17/forcedchunks.dat\n",
      "test_save/DIM-17/data/buildcraft_wire_systems.dat\n",
      "test_save/DIM-17/data/capabilities.dat\n",
      "test_save/DIM-17/data/villages_wyvern_lair.dat\n",
      "test_save/DIM-1/multipart.dat\n",
      "test_save/DIM-1/forcedchunks.dat\n",
      "test_save/DIM-1/data/buildcraft_wire_systems.dat\n",
      "test_save/DIM-1/data/villages_nether.dat\n",
      "test_save/DIM-1/data/capabilities.dat\n",
      "test_save/minecolonies/colonies.dat\n",
      "test_save/minecolonies/colonies-2020-12-07_23.04.22.zip\n",
      "test_save/data/villages.dat\n",
      "test_save/data/buildcraft_wire_systems.dat\n",
      "test_save/data/buildcraft_marker_volume.dat\n",
      "test_save/data/Village.dat\n",
      "test_save/data/mocreatures.dat\n",
      "test_save/data/capabilities.dat\n",
      "test_save/data/buildcraft_marker_path.dat\n",
      "test_save/data/Mineshaft.dat\n",
      "test_save/stats/aaa58dde-8e1d-4577-aae3-fff207e8c068.json\n",
      "test_save/structurize/structurize_linksession.dat\n",
      "test_save/DIM1/multipart.dat\n",
      "test_save/DIM1/forcedchunks.dat\n",
      "test_save/DIM1/data/buildcraft_wire_systems.dat\n",
      "test_save/DIM1/data/villages_end.dat\n",
      "test_save/DIM1/data/capabilities.dat\n",
      "test_save/region/r.0.-1.mca\n",
      "test_save/region/r.0.0.mca\n"
     ]
    }
   ],
   "source": [
    "process_dirs('test_save',lambda x,invalid_exts:print(x))"
   ]
  },
  {
   "cell_type": "markdown",
   "metadata": {},
   "source": [
    "## Crypto Functions"
   ]
  },
  {
   "cell_type": "code",
   "execution_count": 20,
   "metadata": {},
   "outputs": [
    {
     "name": "stdout",
     "output_type": "stream",
     "text": [
      "Overwriting test_file.txt\n"
     ]
    }
   ],
   "source": [
    "%%writefile test_file.txt\n",
    "Hello\n",
    "This is\n",
    "A file that \n",
    "needs to be encrypted"
   ]
  },
  {
   "cell_type": "code",
   "execution_count": 21,
   "metadata": {},
   "outputs": [],
   "source": [
    "# export\n",
    "pv=lambda msg,v:(print(msg) if v else None)\n",
    "\n",
    "def encrypt_file(p:Path,to_p:Path=None,block_sz=65536,verbose=False,prefix='encrypted',key=None,\n",
    "                invalid_exts=''):\n",
    "    p=Path(p)\n",
    "    to_p=ifnone(to_p,Path(prefix)/p)        \n",
    "    key=ifnone(key,Fernet.generate_key())\n",
    "    encryptor=Fernet(key)\n",
    "    os.makedirs(str(Path(to_p).parent),exist_ok=True)\n",
    "    \n",
    "    if p.suffix[1:] in invalid_exts.split(','): \n",
    "        copyfile(str(p),str(to_p))\n",
    "        return key \n",
    "    \n",
    "    with open(p,'rb') as f,open(to_p,'wb') as to_f:\n",
    "        fb=f.read(block_sz)\n",
    "        while len(fb)>0: \n",
    "            token=encryptor.encrypt(fb)\n",
    "            pv(token,verbose)\n",
    "            to_f.write(token)\n",
    "            fb=f.read(block_sz) \n",
    "    return key"
   ]
  },
  {
   "cell_type": "code",
   "execution_count": 22,
   "metadata": {},
   "outputs": [
    {
     "name": "stdout",
     "output_type": "stream",
     "text": [
      "b'gAAAAABf1AeT-YBxb0mutyFSHsyRDPkg1ymqmiPs96HNeV8TdQiUErqv29ujqK8Pvd0Eg-DF0qG0fUfHnZhHCG37s6MVEI9vXA=='\n",
      "b'gAAAAABf1AeTjOKgAo9W6qWmXfYZmEmIpsNh8hUBRv5rlhFVCNtsQN_ac7xs7AJOXRcpfm0fhW5Nyj4-ZbuWXT07ihj9nQCvWQ=='\n",
      "b'gAAAAABf1AeTLbXmex_EYUJJ75ZwqqZmCxdnvrB99EW6KO46lC19ioIlTWxttZ0A-Ld14-5bkE--pCkkQG4HGppEhvpTG29arw=='\n",
      "b'gAAAAABf1AeTmd9Xp_HG56EN56dnijcDggswbmg7hjO34BYFCh8CvF09kay0bsUQ4ajIvakiU-HCvOZuVPzdRE2nByixqehQTA=='\n",
      "b'gAAAAABf1AeTajYSfpV2JMR4MqiZCisfqQZKtf0Nj8aFXEHJPteSyqoFMjmz61SovxhLbWc9cBNPlhxyTFRe65dGaZJ5eya6jA=='\n",
      "b'gAAAAABf1AeTDCe8FblH-K-tUOFQJVePCf9u4OzoGbC7txeszeC3psHhX7q80GqqvIEPCzxVFqlRne6GlZ8LXo0nIZITsCw4tA=='\n",
      "b'gAAAAABf1AeTN28N4WaS_cZxMDzXvusIQtwV6yxiFJCe1-RoeottPrRY8JisOruIKAku5B06rz1Memmzpk_z45zAx4NTYytFyw=='\n"
     ]
    },
    {
     "data": {
      "text/plain": [
       "b'8r5mrM7RtDYgJNbWkv62LoXMuj_AROATx_GZdH1WAcs='"
      ]
     },
     "execution_count": 22,
     "metadata": {},
     "output_type": "execute_result"
    }
   ],
   "source": [
    "k=encrypt_file('test_file.txt',block_sz=8,verbose=True);k"
   ]
  },
  {
   "cell_type": "code",
   "execution_count": 23,
   "metadata": {},
   "outputs": [],
   "source": [
    "# export\n",
    "def decrypt_file(p:Path,key,to_p:Path=None,block_sz=65536,verbose=False,prefix='decrypted',\n",
    "                invalid_exts=''):\n",
    "    p=Path(p)\n",
    "    pv(p,verbose)\n",
    "    to_p=ifnone(to_p,p.parents[2]/prefix/p if len(p.parts)>2 else prefix/p)\n",
    "    decryptor=Fernet(key)\n",
    "    os.makedirs(str(Path(to_p).parent),exist_ok=True)\n",
    "    if p.suffix[1:] in invalid_exts.split(','): \n",
    "        copyfile(str(p),str(to_p))\n",
    "        return key \n",
    "    \n",
    "    with open(p,'rb') as f,open(to_p,'wb') as to_f:\n",
    "        fb=f.read(block_sz)\n",
    "        while len(fb)>0: \n",
    "            token=decryptor.decrypt(fb)\n",
    "            to_f.write(token)\n",
    "            fb=f.read(block_sz) \n",
    "    return key"
   ]
  },
  {
   "cell_type": "code",
   "execution_count": 24,
   "metadata": {},
   "outputs": [
    {
     "name": "stdout",
     "output_type": "stream",
     "text": [
      "encrypted/test_file.txt\n"
     ]
    },
    {
     "data": {
      "text/plain": [
       "b'8r5mrM7RtDYgJNbWkv62LoXMuj_AROATx_GZdH1WAcs='"
      ]
     },
     "execution_count": 24,
     "metadata": {},
     "output_type": "execute_result"
    }
   ],
   "source": [
    "decrypt_file('encrypted/test_file.txt',k,'test_file_decrypted.txt',verbose=True)"
   ]
  },
  {
   "cell_type": "code",
   "execution_count": 25,
   "metadata": {},
   "outputs": [],
   "source": [
    "k=Fernet.generate_key()\n",
    "process_dirs('test_save',partial(encrypt_file,key=k,prefix='minecraft_encrypted'))"
   ]
  },
  {
   "cell_type": "code",
   "execution_count": 26,
   "metadata": {},
   "outputs": [
    {
     "name": "stdout",
     "output_type": "stream",
     "text": [
      "minecraft_encrypted/test_save/level.dat\n",
      "minecraft_encrypted/test_save/level.dat_old\n",
      "minecraft_encrypted/test_save/session.lock\n",
      "minecraft_encrypted/test_save/multipart.dat\n",
      "minecraft_encrypted/test_save/forcedchunks.dat\n",
      "minecraft_encrypted/test_save/advancements/aaa58dde-8e1d-4577-aae3-fff207e8c068.json\n",
      "minecraft_encrypted/test_save/playerdata/aaa58dde-8e1d-4577-aae3-fff207e8c068.dat\n",
      "minecraft_encrypted/test_save/DIM-17/multipart.dat\n",
      "minecraft_encrypted/test_save/DIM-17/forcedchunks.dat\n",
      "minecraft_encrypted/test_save/DIM-17/data/buildcraft_wire_systems.dat\n",
      "minecraft_encrypted/test_save/DIM-17/data/capabilities.dat\n",
      "minecraft_encrypted/test_save/DIM-17/data/villages_wyvern_lair.dat\n",
      "minecraft_encrypted/test_save/DIM-1/multipart.dat\n",
      "minecraft_encrypted/test_save/DIM-1/forcedchunks.dat\n",
      "minecraft_encrypted/test_save/DIM-1/data/buildcraft_wire_systems.dat\n",
      "minecraft_encrypted/test_save/DIM-1/data/villages_nether.dat\n",
      "minecraft_encrypted/test_save/DIM-1/data/capabilities.dat\n",
      "minecraft_encrypted/test_save/minecolonies/colonies.dat\n",
      "minecraft_encrypted/test_save/minecolonies/colonies-2020-12-07_23.04.22.zip\n",
      "minecraft_encrypted/test_save/data/villages.dat\n",
      "minecraft_encrypted/test_save/data/buildcraft_wire_systems.dat\n",
      "minecraft_encrypted/test_save/data/buildcraft_marker_volume.dat\n",
      "minecraft_encrypted/test_save/data/Village.dat\n",
      "minecraft_encrypted/test_save/data/mocreatures.dat\n",
      "minecraft_encrypted/test_save/data/capabilities.dat\n",
      "minecraft_encrypted/test_save/data/buildcraft_marker_path.dat\n",
      "minecraft_encrypted/test_save/data/Mineshaft.dat\n",
      "minecraft_encrypted/test_save/stats/aaa58dde-8e1d-4577-aae3-fff207e8c068.json\n",
      "minecraft_encrypted/test_save/structurize/structurize_linksession.dat\n",
      "minecraft_encrypted/test_save/DIM1/multipart.dat\n",
      "minecraft_encrypted/test_save/DIM1/forcedchunks.dat\n",
      "minecraft_encrypted/test_save/DIM1/data/buildcraft_wire_systems.dat\n",
      "minecraft_encrypted/test_save/DIM1/data/villages_end.dat\n",
      "minecraft_encrypted/test_save/DIM1/data/capabilities.dat\n",
      "minecraft_encrypted/test_save/region/r.0.-1.mca\n",
      "minecraft_encrypted/test_save/region/r.0.0.mca\n"
     ]
    }
   ],
   "source": [
    "process_dirs('minecraft_encrypted/test_save',partial(decrypt_file,key=k,verbose=True))"
   ]
  },
  {
   "cell_type": "code",
   "execution_count": 27,
   "metadata": {},
   "outputs": [
    {
     "name": "stdout",
     "output_type": "stream",
     "text": [
      "converting /opt/project/play_it_later/nbs/index.ipynb to README.md\n",
      "Converted 00_encryption.ipynb.\n",
      "Converted 01_talker.ipynb.\n",
      "Converted 02_cli.ipynb.\n",
      "Converted index.ipynb.\n",
      "converting: /opt/project/play_it_later/nbs/00_encryption.ipynb\n",
      "converting: /opt/project/play_it_later/nbs/02_cli.ipynb\n",
      "An error occurred while executing the following cell:\n",
      "------------------\n",
      "from nbdev.showdoc import show_doc\n",
      "from play_it_later.cli import *\n",
      "------------------\n",
      "\n",
      "Traceback \u001b[0;36m(most recent call last)\u001b[0m:\n",
      "\n",
      "  File \u001b[1;32m\"/opt/conda/envs/play_it_later/lib/python3.7/site-packages/IPython/core/interactiveshell.py\"\u001b[0m, line \u001b[1;32m3418\u001b[0m, in \u001b[1;35mrun_code\u001b[0m\n",
      "    exec(code_obj, self.user_global_ns, self.user_ns)\n",
      "\n",
      "\u001b[0;36m  File \u001b[0;32m\"<ipython-input-1-874cf4e0a969>\"\u001b[0;36m, line \u001b[0;32m2\u001b[0;36m, in \u001b[0;35m<module>\u001b[0;36m\u001b[0m\n",
      "\u001b[0;31m    from play_it_later.cli import *\u001b[0m\n",
      "\n",
      "\u001b[0;36m  File \u001b[0;32m\"/opt/project/play_it_later/play_it_later/cli.py\"\u001b[0;36m, line \u001b[0;32m56\u001b[0m\n",
      "\u001b[0;31m    mv_original_dir:Param('Move to the original directory.',bool_arg)=False):\u001b[0m\n",
      "\u001b[0m                  ^\u001b[0m\n",
      "\u001b[0;31mSyntaxError\u001b[0m\u001b[0;31m:\u001b[0m invalid syntax\n",
      "\n",
      "SyntaxError: invalid syntax (cli.py, line 56)\n",
      "\n",
      "Conversion failed on the following:\n",
      "02_cli.ipynb\n"
     ]
    }
   ],
   "source": [
    "# hide\n",
    "from nbdev.export import *\n",
    "from nbdev.export2html import *\n",
    "from nbdev.cli import make_readme\n",
    "make_readme()\n",
    "notebook2script()\n",
    "notebook2html()"
   ]
  }
 ],
 "metadata": {
  "kernelspec": {
   "display_name": "Python 3",
   "language": "python",
   "name": "python3"
  },
  "language_info": {
   "codemirror_mode": {
    "name": "ipython",
    "version": 3
   },
   "file_extension": ".py",
   "mimetype": "text/x-python",
   "name": "python",
   "nbconvert_exporter": "python",
   "pygments_lexer": "ipython3",
   "version": "3.7.8"
  }
 },
 "nbformat": 4,
 "nbformat_minor": 4
}
