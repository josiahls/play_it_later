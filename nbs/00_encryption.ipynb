{
 "cells": [
  {
   "cell_type": "code",
   "execution_count": 782,
   "metadata": {},
   "outputs": [],
   "source": [
    "# default_exp encryption"
   ]
  },
  {
   "cell_type": "markdown",
   "metadata": {},
   "source": [
    "# Encryption\n",
    "\n",
    "> Functions for encrypting files."
   ]
  },
  {
   "cell_type": "code",
   "execution_count": 783,
   "metadata": {},
   "outputs": [],
   "source": [
    "# export\n",
    "import cryptography\n",
    "from cryptography.fernet import Fernet\n",
    "from fastcore.all import *\n",
    "from pathlib import Path\n",
    "from functools import partial\n",
    "from shutil import copyfile\n",
    "import os"
   ]
  },
  {
   "cell_type": "code",
   "execution_count": 784,
   "metadata": {},
   "outputs": [],
   "source": [
    "#hide\n",
    "from nbdev.showdoc import *"
   ]
  },
  {
   "cell_type": "markdown",
   "metadata": {},
   "source": [
    "## Utility Functions"
   ]
  },
  {
   "cell_type": "code",
   "execution_count": 786,
   "metadata": {},
   "outputs": [],
   "source": [
    "# export\n",
    "def process_dirs(p:Path,fn=None,invalid_exts='mca'):\n",
    "    p=Path(p)\n",
    "    if p.is_file(): return fn(p,invalid_exts=invalid_exts)\n",
    "    for dirpath,dirnames,filenames in os.walk(str(p)):\n",
    "        if len(dirnames)==0 and len(filenames)==0: continue\n",
    "        for f in filenames: fn(Path(dirpath)/Path(f),invalid_exts=invalid_exts)"
   ]
  },
  {
   "cell_type": "code",
   "execution_count": 787,
   "metadata": {},
   "outputs": [
    {
     "name": "stdout",
     "output_type": "stream",
     "text": [
      "test_save/forcedchunks.dat\n",
      "test_save/multipart.dat\n",
      "test_save/session.lock\n",
      "test_save/level.dat_old\n",
      "test_save/level.dat\n",
      "test_save/DIM-17/forcedchunks.dat\n",
      "test_save/DIM-17/multipart.dat\n",
      "test_save/DIM-17/data/villages_wyvern_lair.dat\n",
      "test_save/DIM-17/data/capabilities.dat\n",
      "test_save/DIM-17/data/buildcraft_wire_systems.dat\n",
      "test_save/minecolonies/colonies.dat\n",
      "test_save/minecolonies/colonies-2020-12-07_23.04.22.zip\n",
      "test_save/data/Village.dat\n",
      "test_save/data/mocreatures.dat\n",
      "test_save/data/buildcraft_marker_path.dat\n",
      "test_save/data/Mineshaft.dat\n",
      "test_save/data/buildcraft_marker_volume.dat\n",
      "test_save/data/villages.dat\n",
      "test_save/data/capabilities.dat\n",
      "test_save/data/buildcraft_wire_systems.dat\n",
      "test_save/structurize/structurize_linksession.dat\n",
      "test_save/DIM1/forcedchunks.dat\n",
      "test_save/DIM1/multipart.dat\n",
      "test_save/DIM1/data/villages_end.dat\n",
      "test_save/DIM1/data/capabilities.dat\n",
      "test_save/DIM1/data/buildcraft_wire_systems.dat\n",
      "test_save/region/r.0.0.mca\n",
      "test_save/region/r.0.-1.mca\n",
      "test_save/DIM-1/forcedchunks.dat\n",
      "test_save/DIM-1/multipart.dat\n",
      "test_save/DIM-1/data/villages_nether.dat\n",
      "test_save/DIM-1/data/capabilities.dat\n",
      "test_save/DIM-1/data/buildcraft_wire_systems.dat\n",
      "test_save/stats/aaa58dde-8e1d-4577-aae3-fff207e8c068.json\n",
      "test_save/playerdata/aaa58dde-8e1d-4577-aae3-fff207e8c068.dat\n",
      "test_save/advancements/aaa58dde-8e1d-4577-aae3-fff207e8c068.json\n"
     ]
    }
   ],
   "source": [
    "process_dirs('test_save',lambda x,invalid_exts:print(x))"
   ]
  },
  {
   "cell_type": "markdown",
   "metadata": {},
   "source": [
    "## Crypto Functions"
   ]
  },
  {
   "cell_type": "code",
   "execution_count": 788,
   "metadata": {},
   "outputs": [
    {
     "name": "stdout",
     "output_type": "stream",
     "text": [
      "Overwriting test_file.txt\n"
     ]
    }
   ],
   "source": [
    "%%writefile test_file.txt\n",
    "Hello\n",
    "This is\n",
    "A file that \n",
    "needs to be encrypted"
   ]
  },
  {
   "cell_type": "code",
   "execution_count": 789,
   "metadata": {},
   "outputs": [],
   "source": [
    "# export\n",
    "pv=lambda msg,v:(print(msg) if v else None)\n",
    "\n",
    "def encrypt_file(p:Path,to_p:Path=None,block_sz=65536,verbose=False,prefix='encrypted',key=None,\n",
    "                invalid_exts=''):\n",
    "    p=Path(p)\n",
    "    to_p=ifnone(to_p,Path(prefix)/p)        \n",
    "    key=ifnone(key,Fernet.generate_key())\n",
    "    encryptor=Fernet(key)\n",
    "    os.makedirs(str(Path(to_p).parent),exist_ok=True)\n",
    "    \n",
    "    if p.suffix[1:] in invalid_exts.split(','): \n",
    "        copyfile(str(p),str(to_p))\n",
    "        return key \n",
    "    \n",
    "    with open(p,'rb') as f,open(to_p,'wb') as to_f:\n",
    "        fb=f.read(block_sz)\n",
    "        while len(fb)>0: \n",
    "            token=encryptor.encrypt(fb)\n",
    "            pv(token,verbose)\n",
    "            to_f.write(token)\n",
    "            fb=f.read(block_sz) \n",
    "    return key"
   ]
  },
  {
   "cell_type": "code",
   "execution_count": 790,
   "metadata": {},
   "outputs": [
    {
     "name": "stdout",
     "output_type": "stream",
     "text": [
      "b'gAAAAABfzxiKdaQeOgRTueb5wNxqrEqp-3f484q0Rr1AK4bO3xxrmNhl_DblVTMIoSN-mlw2d_yKZwH_6E1b0welPMSxzKQGKQ=='\n",
      "b'gAAAAABfzxiKw0sVSvPE8d8tQ37f4oAt9uorLYOdq4ejTSa0kepmoZlLs9iL9i-dDN4RESO3uksBII0nohfGTQFinY-rOxjjJw=='\n",
      "b'gAAAAABfzxiKXiIiqgz5nnUJat3o1PIp9i94dH4s5Qpt_2gJxhAnRJsnJZze1aY1MTYVc3vKgW22R2it6_e4yQo94iVWIw4yRQ=='\n",
      "b'gAAAAABfzxiKPzoiCJiiVi_PO2o7dY_AmXreop-jLQFEaJu4NW_aTmjxtSzkbh9Wx-DcwXDY5lhESHEa0ui2F3sl5iUuFm_9xg=='\n",
      "b'gAAAAABfzxiKzhcHjZY1VbH7Uv_NDmpj2f1JnGvh1ZG-0uJgEkf9-thGRz2aLKbOt_oaxlLLLt_UUfckrbVxXFPnUTzTMl8tSw=='\n",
      "b'gAAAAABfzxiK1isupbE8vhB_OEIrviKwqTTCbbFJE92eO6c4r_2hWE6ZWExB6yyNlbVnCJtVQbolrWaywPs9UPy68OmBU9Y6cA=='\n",
      "b'gAAAAABfzxiKuzahvnEX1Sr-IOPK2iX9BH_KtzEti89E8kKiLxGUQrI9Kh-Wu4sL_5yZDdp6BHeOU-pei1DqMsWW9u2losIrNQ=='\n"
     ]
    },
    {
     "data": {
      "text/plain": [
       "b'J2RF3E6MfqO-WVs_0CtQ7DS6LIeA2tMtny6GqK3xDLE='"
      ]
     },
     "execution_count": 790,
     "metadata": {},
     "output_type": "execute_result"
    }
   ],
   "source": [
    "k=encrypt_file('test_file.txt',block_sz=8,verbose=True);k"
   ]
  },
  {
   "cell_type": "code",
   "execution_count": 791,
   "metadata": {},
   "outputs": [],
   "source": [
    "# export\n",
    "def decrypt_file(p:Path,key,to_p:Path=None,block_sz=65536,verbose=False,prefix='decrypted',\n",
    "                invalid_exts=''):\n",
    "    p=Path(p)\n",
    "    pv(p,verbose)\n",
    "    to_p=ifnone(to_p,Path(prefix)/p)\n",
    "    decryptor=Fernet(key)\n",
    "    os.makedirs(str(Path(to_p).parent),exist_ok=True)\n",
    "    if p.suffix[1:] in invalid_exts.split(','): \n",
    "        copyfile(str(p),str(to_p))\n",
    "        return key \n",
    "    \n",
    "    with open(p,'rb') as f,open(to_p,'wb') as to_f:\n",
    "        fb=f.read(block_sz)\n",
    "        while len(fb)>0: \n",
    "            token=decryptor.decrypt(fb)\n",
    "            to_f.write(token)\n",
    "            fb=f.read(block_sz) \n",
    "    return key"
   ]
  },
  {
   "cell_type": "code",
   "execution_count": 792,
   "metadata": {},
   "outputs": [
    {
     "name": "stdout",
     "output_type": "stream",
     "text": [
      "encrypted/test_file.txt\n"
     ]
    },
    {
     "data": {
      "text/plain": [
       "b'J2RF3E6MfqO-WVs_0CtQ7DS6LIeA2tMtny6GqK3xDLE='"
      ]
     },
     "execution_count": 792,
     "metadata": {},
     "output_type": "execute_result"
    }
   ],
   "source": [
    "decrypt_file('encrypted/test_file.txt',k,'test_file_decrypted.txt',verbose=True)"
   ]
  },
  {
   "cell_type": "code",
   "execution_count": 793,
   "metadata": {},
   "outputs": [],
   "source": [
    "k=Fernet.generate_key()\n",
    "process_dirs('test_save',partial(encrypt_file,key=k,prefix='minecraft_encrypted'))"
   ]
  },
  {
   "cell_type": "code",
   "execution_count": 794,
   "metadata": {},
   "outputs": [
    {
     "name": "stdout",
     "output_type": "stream",
     "text": [
      "minecraft_encrypted/test_save/forcedchunks.dat\n",
      "minecraft_encrypted/test_save/multipart.dat\n",
      "minecraft_encrypted/test_save/session.lock\n",
      "minecraft_encrypted/test_save/level.dat_old\n",
      "minecraft_encrypted/test_save/level.dat\n",
      "minecraft_encrypted/test_save/DIM-17/forcedchunks.dat\n",
      "minecraft_encrypted/test_save/DIM-17/multipart.dat\n",
      "minecraft_encrypted/test_save/DIM-17/data/villages_wyvern_lair.dat\n",
      "minecraft_encrypted/test_save/DIM-17/data/capabilities.dat\n",
      "minecraft_encrypted/test_save/DIM-17/data/buildcraft_wire_systems.dat\n",
      "minecraft_encrypted/test_save/minecolonies/colonies.dat\n",
      "minecraft_encrypted/test_save/minecolonies/colonies-2020-12-07_23.04.22.zip\n",
      "minecraft_encrypted/test_save/data/Village.dat\n",
      "minecraft_encrypted/test_save/data/mocreatures.dat\n",
      "minecraft_encrypted/test_save/data/buildcraft_marker_path.dat\n",
      "minecraft_encrypted/test_save/data/Mineshaft.dat\n",
      "minecraft_encrypted/test_save/data/buildcraft_marker_volume.dat\n",
      "minecraft_encrypted/test_save/data/villages.dat\n",
      "minecraft_encrypted/test_save/data/capabilities.dat\n",
      "minecraft_encrypted/test_save/data/buildcraft_wire_systems.dat\n",
      "minecraft_encrypted/test_save/structurize/structurize_linksession.dat\n",
      "minecraft_encrypted/test_save/DIM1/forcedchunks.dat\n",
      "minecraft_encrypted/test_save/DIM1/multipart.dat\n",
      "minecraft_encrypted/test_save/DIM1/data/villages_end.dat\n",
      "minecraft_encrypted/test_save/DIM1/data/capabilities.dat\n",
      "minecraft_encrypted/test_save/DIM1/data/buildcraft_wire_systems.dat\n",
      "minecraft_encrypted/test_save/region/r.0.0.mca\n",
      "minecraft_encrypted/test_save/region/r.0.-1.mca\n",
      "minecraft_encrypted/test_save/DIM-1/forcedchunks.dat\n",
      "minecraft_encrypted/test_save/DIM-1/multipart.dat\n",
      "minecraft_encrypted/test_save/DIM-1/data/villages_nether.dat\n",
      "minecraft_encrypted/test_save/DIM-1/data/capabilities.dat\n",
      "minecraft_encrypted/test_save/DIM-1/data/buildcraft_wire_systems.dat\n",
      "minecraft_encrypted/test_save/stats/aaa58dde-8e1d-4577-aae3-fff207e8c068.json\n",
      "minecraft_encrypted/test_save/playerdata/aaa58dde-8e1d-4577-aae3-fff207e8c068.dat\n",
      "minecraft_encrypted/test_save/advancements/aaa58dde-8e1d-4577-aae3-fff207e8c068.json\n"
     ]
    }
   ],
   "source": [
    "process_dirs('minecraft_encrypted/test_save',partial(decrypt_file,key=k,verbose=True))"
   ]
  },
  {
   "cell_type": "code",
   "execution_count": 795,
   "metadata": {},
   "outputs": [
    {
     "name": "stdout",
     "output_type": "stream",
     "text": [
      "converting /opt/project/play_it_later/nbs/index.ipynb to README.md\n",
      "Converted 00_encryption.ipynb.\n",
      "Converted index.ipynb.\n"
     ]
    },
    {
     "data": {
      "text/html": [],
      "text/plain": [
       "<IPython.core.display.HTML object>"
      ]
     },
     "metadata": {},
     "output_type": "display_data"
    },
    {
     "name": "stdout",
     "output_type": "stream",
     "text": [
      "converting: /opt/project/play_it_later/nbs/00_encryption.ipynb\n"
     ]
    }
   ],
   "source": [
    "# hide\n",
    "from nbdev.export import *\n",
    "from nbdev.export2html import *\n",
    "from nbdev.cli import make_readme\n",
    "make_readme()\n",
    "notebook2script()\n",
    "notebook2html()"
   ]
  }
 ],
 "metadata": {
  "kernelspec": {
   "display_name": "Python 3",
   "language": "python",
   "name": "python3"
  },
  "language_info": {
   "codemirror_mode": {
    "name": "ipython",
    "version": 3
   },
   "file_extension": ".py",
   "mimetype": "text/x-python",
   "name": "python",
   "nbconvert_exporter": "python",
   "pygments_lexer": "ipython3",
   "version": "3.7.8"
  }
 },
 "nbformat": 4,
 "nbformat_minor": 4
}
