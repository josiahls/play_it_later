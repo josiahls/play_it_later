{
 "cells": [
  {
   "cell_type": "code",
   "execution_count": 1,
   "metadata": {},
   "outputs": [],
   "source": [
    "# default_exp cli"
   ]
  },
  {
   "cell_type": "code",
   "execution_count": 2,
   "metadata": {},
   "outputs": [],
   "source": [
    "# export\n",
    "from fastcore.all import *\n",
    "from pathlib import Path\n",
    "from functools import partial\n",
    "from shutil import copyfile\n",
    "from selenium import webdriver\n",
    "from webdriver_manager.chrome import ChromeDriverManager\n",
    "from selenium.webdriver.remote.webdriver import WebDriver as RemoteWebDriver\n",
    "from selenium.webdriver.support import expected_conditions as EC\n",
    "from selenium.webdriver.common.by import By\n",
    "from selenium.webdriver.support.ui import WebDriverWait\n",
    "from selenium.webdriver.chrome.options import Options\n",
    "from cryptography.fernet import Fernet\n",
    "from selenium.webdriver.common.keys import Keys\n",
    "from itertools import count\n",
    "from time import sleep\n",
    "import http\n",
    "import webbrowser\n",
    "import shutil\n",
    "import os\n",
    "import click\n",
    "import colorama\n",
    "import pickle\n",
    "import json\n",
    "\n",
    "from play_it_later.encryption import *\n",
    "from play_it_later.talker import *"
   ]
  },
  {
   "cell_type": "code",
   "execution_count": 3,
   "metadata": {},
   "outputs": [],
   "source": [
    "# export\n",
    "@call_parse\n",
    "def encrypt_game(p:Param('The path to the game save.',Path),\n",
    "                 year:Param('year to decrypt',int),month:Param('month to decrypt',int),\n",
    "                 day:Param('day to decrypt',int),hour:Param('hour to decrypt',int),minute:Param('minute to decrypt',int),\n",
    "                 block_sz:Param('The block size to encrypt the file. Should be multiples of 8',int)=65536,\n",
    "                 verbose:Param('print debug print statements. Will show the original key.',bool_arg)=False):\n",
    "    key=Fernet.generate_key()\n",
    "    if verbose:print(key)\n",
    "    if str(p)[0]!='/': Path(os.getcwd())/p\n",
    "    process_dirs(p,partial(encrypt_file,key=key,block_sz=block_sz,verbose=verbose))\n",
    "    key=send_encryption_key(key,year,month,day,hour,minute)\n",
    "    txt2encrypted_file(p.parent/'encrypted'/p.parts[-1],key)"
   ]
  },
  {
   "cell_type": "code",
   "execution_count": 4,
   "metadata": {},
   "outputs": [
    {
     "name": "stdout",
     "output_type": "stream",
     "text": [
      " \n",
      "[WDM] - Current google-chrome version is 87.0.4280\n",
      "[WDM] - Get LATEST driver version for 87.0.4280\n",
      "[WDM] - There is no [linux64] chromedriver for browser 87.0.4280 in cache\n",
      "[WDM] - Get LATEST driver version for 87.0.4280\n",
      "[WDM] - Trying to download new driver from http://chromedriver.storage.googleapis.com/87.0.4280.88/chromedriver_linux64.zip\n",
      "[WDM] - Driver has been saved in cache [/home/play_it_later/.wdm/drivers/chromedriver/linux64/87.0.4280.88]\n",
      "Please pick from these days in month 12: (12, 13, 14, 15, 16, 17, 18, 19, 20, 21, 22, 23, 24, 25, 26, 27, 28, 29, 30, 31)\n"
     ]
    }
   ],
   "source": [
    "!encrypt_game 'A Brave New World 40' 2020 12 11 18 15"
   ]
  },
  {
   "cell_type": "code",
   "execution_count": 5,
   "metadata": {},
   "outputs": [],
   "source": [
    "# export\n",
    "@call_parse\n",
    "def decrypt_game(p:Param('The path to the game save.',Path),\n",
    "                 prefix:Param('Where to put the decrypted file.',str),\n",
    "                 verbose:Param('print debug print statements. Will show the original key.',bool_arg)=False,\n",
    "                 mv_original_dir:Param('Move to the original directory.',bool_arg)=False):\n",
    "    if str(p)[0]!='/': Path(os.getcwd())/p\n",
    "    en_p=p if 'encrypted' in p.parts else p.parent/'encrypted'/p.parts[-1]\n",
    "    key=encrypted_file2txt(en_p)\n",
    "    key,result_description=request_decryption_key(key)\n",
    "    if verbose:print(key)\n",
    "    print(result_description)\n",
    "    if key=='': \n",
    "        print('key is empty. This is likely due to it being locked.')\n",
    "        return\n",
    "    process_dirs(en_p,partial(decrypt_file,key=key,verbose=verbose,prefix=prefix))\n",
    "    \n",
    "    if mv_original_dir: shutil.move(str(prefix/en_p),p)"
   ]
  },
  {
   "cell_type": "code",
   "execution_count": 6,
   "metadata": {},
   "outputs": [
    {
     "name": "stdout",
     "output_type": "stream",
     "text": [
      "Traceback (most recent call last):\n",
      "  File \"/opt/conda/envs/play_it_later/bin/decrypt_game\", line 33, in <module>\n",
      "    sys.exit(load_entry_point('play-it-later', 'console_scripts', 'decrypt_game')())\n",
      "  File \"/opt/conda/envs/play_it_later/lib/python3.7/site-packages/fastcore/script.py\", line 103, in _f\n",
      "    tfunc(**merge(args, args_from_prog(func, xtra)))\n",
      "  File \"/opt/project/play_it_later/play_it_later/cli.py\", line 55, in decrypt_game\n",
      "    key=encrypted_file2txt(en_p)\n",
      "  File \"/opt/project/play_it_later/play_it_later/talker.py\", line 40, in encrypted_file2txt\n",
      "    with open(p,'rb') as f:\n",
      "FileNotFoundError: [Errno 2] No such file or directory: 'encrypted/test_save/encrypted_time_key.pkl'\n"
     ]
    }
   ],
   "source": [
    "!decrypt_game test_save decrypted --verbose y"
   ]
  },
  {
   "cell_type": "code",
   "execution_count": 7,
   "metadata": {},
   "outputs": [
    {
     "name": "stdout",
     "output_type": "stream",
     "text": [
      "converting /opt/project/play_it_later/nbs/index.ipynb to README.md\n",
      "Converted 00_encryption.ipynb.\n",
      "Converted 01_talker.ipynb.\n",
      "Converted 02_cli.ipynb.\n",
      "Converted index.ipynb.\n",
      "converting: /opt/project/play_it_later/nbs/02_cli.ipynb\n"
     ]
    }
   ],
   "source": [
    "# hide\n",
    "from nbdev.export import *\n",
    "from nbdev.export2html import *\n",
    "from nbdev.cli import make_readme\n",
    "make_readme()\n",
    "notebook2script()\n",
    "notebook2html()"
   ]
  },
  {
   "cell_type": "code",
   "execution_count": null,
   "metadata": {},
   "outputs": [],
   "source": []
  }
 ],
 "metadata": {
  "kernelspec": {
   "display_name": "Python 3",
   "language": "python",
   "name": "python3"
  },
  "language_info": {
   "codemirror_mode": {
    "name": "ipython",
    "version": 3
   },
   "file_extension": ".py",
   "mimetype": "text/x-python",
   "name": "python",
   "nbconvert_exporter": "python",
   "pygments_lexer": "ipython3",
   "version": "3.7.9"
  }
 },
 "nbformat": 4,
 "nbformat_minor": 4
}
